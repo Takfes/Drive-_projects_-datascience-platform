{
 "cells": [
  {
   "cell_type": "code",
   "execution_count": null,
   "metadata": {},
   "outputs": [],
   "source": [
    "!pip install minio"
   ]
  },
  {
   "cell_type": "code",
   "execution_count": 1,
   "metadata": {},
   "outputs": [],
   "source": [
    "from minio import Minio\n",
    "from pathlib import Path\n",
    "from tempfile import NamedTemporaryFile\n",
    "\n",
    "import pandas as pd\n",
    "import seaborn as sns"
   ]
  },
  {
   "cell_type": "code",
   "execution_count": 2,
   "metadata": {},
   "outputs": [],
   "source": [
    "minio_client = Minio(endpoint=\"minio:9000\",\n",
    "#                     access_key=os.environ[\"MINIO_ACCESS_KEY\"],\n",
    "#                     secret_key=os.environ[\"MINIO_SECRET_KEY\"],\n",
    "                    access_key=\"takis\",\n",
    "                    secret_key=\"takis1990\",     \n",
    "                    secure=False)"
   ]
  },
  {
   "cell_type": "code",
   "execution_count": null,
   "metadata": {},
   "outputs": [],
   "source": [
    "minio_client.make_bucket(\"testingonetwo\")"
   ]
  },
  {
   "cell_type": "code",
   "execution_count": null,
   "metadata": {},
   "outputs": [],
   "source": [
    "df = sns.load_dataset(\"iris\")\n",
    "\n",
    "df.to_csv(\"iris.csv\",index=False)"
   ]
  },
  {
   "cell_type": "code",
   "execution_count": null,
   "metadata": {},
   "outputs": [],
   "source": [
    "with NamedTemporaryFile() as tmp:\n",
    "    \n",
    "    df.to_csv(\"iris.csv\",index=False)\n",
    "    \n",
    "    minio_client.fput_object(\n",
    "    bucket_name='testingonetwo',\n",
    "    object_name='iris.csv',\n",
    "    content_type='application/csv',\n",
    "    file_path=Path(tmp.name)\n",
    "    )"
   ]
  },
  {
   "cell_type": "markdown",
   "metadata": {},
   "source": [
    "## Minio Reference\n",
    "https://github.com/minio/minio-py/tree/master/examples"
   ]
  },
  {
   "cell_type": "code",
   "execution_count": 3,
   "metadata": {},
   "outputs": [
    {
     "name": "stdout",
     "output_type": "stream",
     "text": [
      "<Bucket: testingonetwo 2019-06-03 00:38:30.464000+00:00>\n"
     ]
    }
   ],
   "source": [
    "for x in minio_client.list_buckets():\n",
    "    print(x)"
   ]
  },
  {
   "cell_type": "code",
   "execution_count": 4,
   "metadata": {},
   "outputs": [
    {
     "name": "stdout",
     "output_type": "stream",
     "text": [
      "<Object: bucket_name: testingonetwo object_name: b'iris.csv' last_modified: 2019-06-03 00:38:30.464000+00:00 etag: 5ece03ac78037de0cf6e0ef051ef0397-1 size: 0 content_type: None, is_dir: False, metadata: None>\n"
     ]
    }
   ],
   "source": [
    "for x in minio_client.list_objects('testingonetwo'):\n",
    "    print(x)"
   ]
  },
  {
   "cell_type": "markdown",
   "metadata": {},
   "source": [
    "## Retrieve & save file to working directory (in docker)"
   ]
  },
  {
   "cell_type": "code",
   "execution_count": 40,
   "metadata": {},
   "outputs": [],
   "source": [
    "myobj = minio_client.fget_object(bucket_name='testingonetwo',\n",
    "                                 object_name='iris.csv',\n",
    "                                 file_path  ='manolis.csv')"
   ]
  },
  {
   "cell_type": "code",
   "execution_count": 41,
   "metadata": {},
   "outputs": [
    {
     "name": "stdout",
     "output_type": "stream",
     "text": [
      "connect_to_db.ipynb  measure_scraping_methods_speed.ipynb\r\n",
      "db_connectivity.R    r2py.ipynb\r\n",
      "iris.csv\t     Untitled.ipynb\r\n",
      "local_iris.csv\t     WA_Fn-UseC_-Telco-Customer-Churn.csv\r\n",
      "manolis.csv\r\n"
     ]
    }
   ],
   "source": [
    "!ls"
   ]
  },
  {
   "cell_type": "markdown",
   "metadata": {},
   "source": [
    "## TBD read file from the bucket w/o saving"
   ]
  },
  {
   "cell_type": "code",
   "execution_count": null,
   "metadata": {},
   "outputs": [],
   "source": [
    "!pip install boto3"
   ]
  },
  {
   "cell_type": "code",
   "execution_count": null,
   "metadata": {},
   "outputs": [],
   "source": [
    "!pip install lxml"
   ]
  },
  {
   "cell_type": "code",
   "execution_count": 5,
   "metadata": {},
   "outputs": [],
   "source": [
    "import lxml\n",
    "import boto3\n",
    "import io\n",
    "import urllib3"
   ]
  },
  {
   "cell_type": "code",
   "execution_count": 5,
   "metadata": {},
   "outputs": [],
   "source": [
    "iris_loaded = minio_client.get_object(bucket_name='testingonetwo',\n",
    "                                      object_name='iris.csv')"
   ]
  }
 ],
 "metadata": {
  "kernelspec": {
   "display_name": "Python 3",
   "language": "python",
   "name": "python3"
  },
  "language_info": {
   "codemirror_mode": {
    "name": "ipython",
    "version": 3
   },
   "file_extension": ".py",
   "mimetype": "text/x-python",
   "name": "python",
   "nbconvert_exporter": "python",
   "pygments_lexer": "ipython3",
   "version": "3.7.3"
  }
 },
 "nbformat": 4,
 "nbformat_minor": 2
}
